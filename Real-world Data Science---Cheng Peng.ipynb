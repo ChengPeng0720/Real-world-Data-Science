{
 "cells": [
  {
   "cell_type": "code",
   "execution_count": 1,
   "metadata": {},
   "outputs": [],
   "source": [
    "import numpy as np\n",
    "import math\n",
    "import pandas as pd\n",
    "import matplotlib.pyplot as plt\n",
    "%matplotlib inline\n",
    "import plotly\n",
    "import plotly.graph_objs as go\n",
    "import plotly.plotly as py\n",
    "from plotly.offline import download_plotlyjs, init_notebook_mode, plot, iplot\n",
    "import warnings\n",
    "warnings.filterwarnings('ignore')\n",
    "\n",
    "from sklearn.linear_model import Ridge\n",
    "from sklearn.linear_model import Lasso\n",
    "from sklearn.ensemble import RandomForestRegressor\n",
    "from sklearn.metrics import mean_squared_error\n",
    "from sklearn.model_selection import cross_val_score\n",
    "from nltk.corpus import stopwords\n",
    "from nltk.stem import PorterStemmer\n",
    "from nltk.tokenize import word_tokenize\n",
    "from sklearn.decomposition import LatentDirichletAllocation as LDA\n",
    "from sklearn.feature_extraction.text import TfidfVectorizer as TFIDF"
   ]
  },
  {
   "cell_type": "markdown",
   "metadata": {},
   "source": [
    "# Load Dataset"
   ]
  },
  {
   "cell_type": "code",
   "execution_count": 6,
   "metadata": {},
   "outputs": [],
   "source": [
    "Winedata = pd.read_csv('winemag-data-130k-v2.csv', index_col=0)"
   ]
  },
  {
   "cell_type": "markdown",
   "metadata": {},
   "source": [
    "# Visualization 1-2"
   ]
  },
  {
   "cell_type": "code",
   "execution_count": 3,
   "metadata": {},
   "outputs": [
    {
     "name": "stdout",
     "output_type": "stream",
     "text": [
      "The draw time for this plot will be slow for all clients.\n"
     ]
    },
    {
     "data": {
      "text/html": [
       "<iframe id=\"igraph\" scrolling=\"no\" style=\"border:none;\" seamless=\"seamless\" src=\"https://plot.ly/~pccavs/7.embed\" height=\"500px\" width=\"700px\"></iframe>"
      ],
      "text/plain": [
       "<plotly.tools.PlotlyDisplay object>"
      ]
     },
     "execution_count": 3,
     "metadata": {},
     "output_type": "execute_result"
    }
   ],
   "source": [
    "# Visualization 1\n",
    "# Explore correlation between price and points\n",
    "\n",
    "# Only keep rows with both price and points information\n",
    "Winedata1 = Winedata.loc[Winedata['points'] > 0]\n",
    "Winedata1 = Winedata1.loc[Winedata1['price'] > 0]\n",
    "\n",
    "\n",
    "points = Winedata1['points']\n",
    "price = Winedata1['price']\n",
    "\n",
    "trace1 = go.Scatter(\n",
    "    x = points,\n",
    "    y = price,\n",
    "    mode = 'markers'\n",
    ")\n",
    "\n",
    "layout = go.Layout(\n",
    "    title='Scatter plot for points vs. price of wines',\n",
    "    width=700,\n",
    "    height=500,\n",
    "    autosize=False,\n",
    "    hovermode='closest',\n",
    "    xaxis = dict(title = 'points'),\n",
    "    yaxis = dict(title = 'price'))\n",
    "data = [trace1]\n",
    "fig1 = go.Figure(data=data, layout=layout)\n",
    "py.iplot(fig1, filename='Scatter plot---Wine')"
   ]
  },
  {
   "cell_type": "markdown",
   "metadata": {},
   "source": [
    "For visualization 1, I want to explore correlation between features price and points. I choose scatter plot since it is widely used and straightforward for showing correlation between two quantitative features. And because of the overlay part in above plot, my visualization also enables viewers to check corresponding (x,y) coordinates when mouse hovering on a point, which is convenient to low-level task such as Query->Identify (slide \"tasks\" pg.21). \n",
    "\n",
    "I use the default color (blue) in Plotly to fill the data points, which can make \"pop-out\" effect (slide \"perception\" pg.92) and immediately capture viewers' attention. The background is colored in white and all other parts are colored in black to avoid distracting viewers (slide \"color\" pg.53). "
   ]
  },
  {
   "cell_type": "code",
   "execution_count": 4,
   "metadata": {},
   "outputs": [
    {
     "data": {
      "image/png": "[encoded data removed]",
      "text/plain": [
       "<Figure size 864x432 with 2 Axes>"
      ]
     },
     "metadata": {},
     "output_type": "display_data"
    }
   ],
   "source": [
    "# Visualization 2\n",
    "# View distributions of points and price\n",
    "\n",
    "fig, axes = plt.subplots(1, 2, figsize=[12, 6])\n",
    "fig.suptitle('Histograms for points and price')\n",
    "Plots = Winedata1.hist(bins=20, ax=axes)"
   ]
  },
  {
   "cell_type": "markdown",
   "metadata": {},
   "source": [
    "For visualization 2, I want to view distributions of two numeric features: points and price. And I apply the default \"hist\" command of Pandas library to draw the above two histograms. I choose the histogram as visual encoding since it is simple but effective for visualizing the distribution of continuous variable. As we learnt in class, the mark is Lines and the channels are Position, Area (slide \"Marks & Channels\" pg.13). Also the visualization is faceted in order to present the two features at same time, and viewers can easily examine both distributions without visual interference.\n",
    "\n",
    "Again, I only use the default color (blue) to fill the bars, which can make \"pop-out\" effect (slide \"perception\" pg.92) and immediately capture viewers' attention. The background is colored in white and all other parts are colored in black to avoid causing visual clutter or distracting viewers (slide \"color\" pg.53). "
   ]
  },
  {
   "cell_type": "markdown",
   "metadata": {},
   "source": [
    "# Split the dataset randomly into train/test (80/20)"
   ]
  },
  {
   "cell_type": "code",
   "execution_count": 7,
   "metadata": {},
   "outputs": [],
   "source": [
    "# Create a function to split the dataset randomly into train(80)/test(20)\n",
    "# General idea is: 1.randomly shuffle the rows of dataset 2.Then select the first 80% cases as train set, the \n",
    "# remaining 20% cases as test set\n",
    "\n",
    "def splitData(df):\n",
    "    indexList = np.arange(df.shape[0]) # Get a list for index of rows\n",
    "    np.random.shuffle(indexList) # Shuffle the index for random selection\n",
    "    datalength = len(indexList)\n",
    "    traindata_Length = math.floor((datalength*8)/10)\n",
    "    trainData = df.iloc[indexList[:traindata_Length]] # Extract train data from dataframe\n",
    "    testData = df.iloc[indexList[traindata_Length:]] # Extract test data from the dataframe\n",
    "    return trainData, testData"
   ]
  },
  {
   "cell_type": "markdown",
   "metadata": {},
   "source": [
    "# Preprocess the data"
   ]
  },
  {
   "cell_type": "code",
   "execution_count": 8,
   "metadata": {},
   "outputs": [
    {
     "data": {
      "text/html": [
       "<div>\n",
       "<style scoped>\n",
       "    .dataframe tbody tr th:only-of-type {\n",
       "        vertical-align: middle;\n",
       "    }\n",
       "\n",
       "    .dataframe tbody tr th {\n",
       "        vertical-align: top;\n",
       "    }\n",
       "\n",
       "    .dataframe thead th {\n",
       "        text-align: right;\n",
       "    }\n",
       "</style>\n",
       "<table border=\"1\" class=\"dataframe\">\n",
       "  <thead>\n",
       "    <tr style=\"text-align: right;\">\n",
       "      <th></th>\n",
       "      <th>country</th>\n",
       "      <th>description</th>\n",
       "      <th>points</th>\n",
       "      <th>price</th>\n",
       "      <th>province</th>\n",
       "      <th>variety</th>\n",
       "    </tr>\n",
       "  </thead>\n",
       "  <tbody>\n",
       "    <tr>\n",
       "      <th>0</th>\n",
       "      <td>Portugal</td>\n",
       "      <td>This is ripe and fruity, a wine that is smooth...</td>\n",
       "      <td>87</td>\n",
       "      <td>15.0</td>\n",
       "      <td>Douro</td>\n",
       "      <td>Portuguese Red</td>\n",
       "    </tr>\n",
       "    <tr>\n",
       "      <th>1</th>\n",
       "      <td>US</td>\n",
       "      <td>Tart and snappy, the flavors of lime flesh and...</td>\n",
       "      <td>87</td>\n",
       "      <td>14.0</td>\n",
       "      <td>Oregon</td>\n",
       "      <td>Pinot Gris</td>\n",
       "    </tr>\n",
       "    <tr>\n",
       "      <th>2</th>\n",
       "      <td>US</td>\n",
       "      <td>Pineapple rind, lemon pith and orange blossom ...</td>\n",
       "      <td>87</td>\n",
       "      <td>13.0</td>\n",
       "      <td>Michigan</td>\n",
       "      <td>Riesling</td>\n",
       "    </tr>\n",
       "    <tr>\n",
       "      <th>3</th>\n",
       "      <td>US</td>\n",
       "      <td>Much like the regular bottling from 2012, this...</td>\n",
       "      <td>87</td>\n",
       "      <td>65.0</td>\n",
       "      <td>Oregon</td>\n",
       "      <td>Pinot Noir</td>\n",
       "    </tr>\n",
       "    <tr>\n",
       "      <th>4</th>\n",
       "      <td>Spain</td>\n",
       "      <td>Blackberry and raspberry aromas show a typical...</td>\n",
       "      <td>87</td>\n",
       "      <td>15.0</td>\n",
       "      <td>Northern Spain</td>\n",
       "      <td>Tempranillo-Merlot</td>\n",
       "    </tr>\n",
       "    <tr>\n",
       "      <th>5</th>\n",
       "      <td>Italy</td>\n",
       "      <td>Here's a bright, informal red that opens with ...</td>\n",
       "      <td>87</td>\n",
       "      <td>16.0</td>\n",
       "      <td>Sicily &amp; Sardinia</td>\n",
       "      <td>Frappato</td>\n",
       "    </tr>\n",
       "    <tr>\n",
       "      <th>6</th>\n",
       "      <td>France</td>\n",
       "      <td>This dry and restrained wine offers spice in p...</td>\n",
       "      <td>87</td>\n",
       "      <td>24.0</td>\n",
       "      <td>Alsace</td>\n",
       "      <td>Gewürztraminer</td>\n",
       "    </tr>\n",
       "    <tr>\n",
       "      <th>7</th>\n",
       "      <td>Germany</td>\n",
       "      <td>Savory dried thyme notes accent sunnier flavor...</td>\n",
       "      <td>87</td>\n",
       "      <td>12.0</td>\n",
       "      <td>Rheinhessen</td>\n",
       "      <td>Gewürztraminer</td>\n",
       "    </tr>\n",
       "  </tbody>\n",
       "</table>\n",
       "</div>"
      ],
      "text/plain": [
       "    country                                        description  points  price  \\\n",
       "0  Portugal  This is ripe and fruity, a wine that is smooth...      87   15.0   \n",
       "1        US  Tart and snappy, the flavors of lime flesh and...      87   14.0   \n",
       "2        US  Pineapple rind, lemon pith and orange blossom ...      87   13.0   \n",
       "3        US  Much like the regular bottling from 2012, this...      87   65.0   \n",
       "4     Spain  Blackberry and raspberry aromas show a typical...      87   15.0   \n",
       "5     Italy  Here's a bright, informal red that opens with ...      87   16.0   \n",
       "6    France  This dry and restrained wine offers spice in p...      87   24.0   \n",
       "7   Germany  Savory dried thyme notes accent sunnier flavor...      87   12.0   \n",
       "\n",
       "            province             variety  \n",
       "0              Douro      Portuguese Red  \n",
       "1             Oregon          Pinot Gris  \n",
       "2           Michigan            Riesling  \n",
       "3             Oregon          Pinot Noir  \n",
       "4     Northern Spain  Tempranillo-Merlot  \n",
       "5  Sicily & Sardinia            Frappato  \n",
       "6             Alsace      Gewürztraminer  \n",
       "7        Rheinhessen      Gewürztraminer  "
      ]
     },
     "execution_count": 8,
     "metadata": {},
     "output_type": "execute_result"
    }
   ],
   "source": [
    "# Firstly, implement some basic data cleaning steps. Drop the columns with less contribution to our task \n",
    "# and drop NA, duplicate values in the remaining columns.\n",
    "\n",
    "# The columns \"taster name\" and \"taster_twitter_handle\" are dropped because they are highly correlated \n",
    "# but hardly have correlation to the column \"points\". Columns \"region_1\" and \"region_2\" are dropped since\n",
    "# they contain lots of NA values. And the columns \"winery\", \"designation\", \"title\" are dropped since \n",
    "# they contain a bunch of unique categories, which may lead to overfitting problem.\n",
    "\n",
    "Winedata = pd.DataFrame(Winedata.drop([\"title\", \"region_1\", \"region_2\", \"taster_name\", \n",
    "                                        \"taster_twitter_handle\", \"winery\", \"designation\"], axis = 1))\n",
    "Winedata_update = pd.DataFrame(Winedata.dropna().drop_duplicates().reset_index(drop = True))\n",
    "\n",
    "# Show the first few rows of cleaned data\n",
    "Winedata_update.head(8)"
   ]
  },
  {
   "cell_type": "code",
   "execution_count": 9,
   "metadata": {},
   "outputs": [],
   "source": [
    "# One-hot encoding for categorical features\n",
    "# Select a sample set with size 20K since running the whole dataset \n",
    "# on my computer consumes a lot of time with no result    \n",
    "\n",
    "WineSample = Winedata_update.sample(n = 20000).reset_index(drop = True)\n",
    "WineSample_update = pd.get_dummies(WineSample, columns = [\"variety\", \"province\", \"country\"])"
   ]
  },
  {
   "cell_type": "code",
   "execution_count": 11,
   "metadata": {},
   "outputs": [
    {
     "name": "stdout",
     "output_type": "stream",
     "text": [
      "[nltk_data] Downloading package punkt to /Users/zhang/nltk_data...\n",
      "[nltk_data]   Unzipping tokenizers/punkt.zip.\n"
     ]
    }
   ],
   "source": [
    "# Preprocessing for description text, bascially removing stop words.\n",
    "\n",
    "import nltk\n",
    "nltk.download('punkt')\n",
    "stopWords = stopwords.words(\"english\")\n",
    "for i in range(len(WineSample_update)):\n",
    "    Text = WineSample_update.loc[i, \"description\"]\n",
    "    stemWord = []\n",
    "    for ele in word_tokenize(Text):\n",
    "        if(ele.isalpha() and ele not in stopWords):\n",
    "            stemWord.append(PorterStemmer().stem(ele.lower()))\n",
    "    WineSample_update.loc[i, \"description\"] = \" \".join(stemWord)"
   ]
  },
  {
   "cell_type": "code",
   "execution_count": 17,
   "metadata": {},
   "outputs": [
    {
     "data": {
      "image/png": "[encoded data removed]",
      "text/plain": [
       "<Figure size 432x288 with 1 Axes>"
      ]
     },
     "metadata": {},
     "output_type": "display_data"
    }
   ],
   "source": [
    "x = np.log(WineSample_update[\"price\"])\n",
    "y = WineSample_update[\"points\"]\n",
    "plt.scatter(x,y)\n",
    "plt.xlabel(\"log price\")\n",
    "plt.ylabel(\"points\")\n",
    "\n",
    "# Based on the below plot, we find there is an overall positive linear relationship between log(price) and points.\n",
    "# So it is appropriate to transform price into log(price) for our regression task.\n",
    "WineSample_update.loc[:, \"price\"] = np.log(WineSample_update[\"price\"])"
   ]
  },
  {
   "cell_type": "code",
   "execution_count": 19,
   "metadata": {},
   "outputs": [],
   "source": [
    "# Standardization for continuous features\n",
    "from sklearn.preprocessing import StandardScaler\n",
    "\n",
    "# Randomly split data into train and test set, using the function created in previous part.\n",
    "trainData, testData = splitData(WineSample_update)\n",
    "trainData = trainData.reset_index(drop = True)\n",
    "testData = testData.reset_index(drop = True)\n",
    "\n",
    "# Standardization step for train and test set\n",
    "from sklearn.preprocessing import StandardScaler\n",
    "datascaler = StandardScaler().fit(trainData.loc[:, [\"price\", \"points\"]]) # use only information of train data\n",
    "trainData.loc[:, [\"price\", \"points\"]]= datascaler.transform(trainData.loc[:, [\"price\", \"points\"]])\n",
    "testData.loc[:, [\"price\", \"points\"]] = datascaler.transform(testData.loc[:, [\"price\", \"points\"]])\n",
    "\n",
    "# Create a function to seperate the points column\n",
    "def seperatePoint(df):\n",
    "    return df.drop('points',axis=1), df['points']\n",
    "\n",
    "trainData_input, trainData_points = seperatePoint(trainData)\n",
    "testData_input, testData_points = seperatePoint(testData)"
   ]
  },
  {
   "cell_type": "code",
   "execution_count": 20,
   "metadata": {},
   "outputs": [
    {
     "name": "stderr",
     "output_type": "stream",
     "text": [
      "/Users/zhang/anaconda3/lib/python3.6/site-packages/sklearn/decomposition/online_lda.py:536: DeprecationWarning:\n",
      "\n",
      "The default value for 'learning_method' will be changed from 'online' to 'batch' in the release 0.20. This warning was introduced in 0.18.\n",
      "\n"
     ]
    }
   ],
   "source": [
    "# Apply Tf-idf and LDA for description text\n",
    "\n",
    "Tfidf_model = TFIDF(sublinear_tf = True).fit(trainData_input[\"description\"]) # use only information of train data\n",
    "trainData_desc = Tfidf_model.transform(trainData_input[\"description\"])\n",
    "testData_desc = Tfidf_model.transform(testData_input[\"description\"])\n",
    "LDA_model = LDA(n_components = 10).fit(trainData_desc) # use only information of train data\n",
    "trainData_desc = LDA_model.transform(trainData_desc)\n",
    "testData_desc = LDA_model.transform(testData_desc)\n",
    "\n",
    "# Then put the results of tf_idf into train data input and test data input\n",
    "for j in range(np.shape(trainData_desc)[1]):\n",
    "    trainData_input[str(j+1)] = trainData_desc[:, j]\n",
    "for k in range(np.shape(testData_desc)[1]):\n",
    "    testData_input[str(k+1)] = testData_desc[:, k]\n",
    "\n",
    "# Now we can drop the original description column then get corresponding values for train input and test input\n",
    "train_input_val = trainData_input.drop(\"description\", axis = 1).values\n",
    "test_input_val = testData_input.drop(\"description\", axis = 1).values"
   ]
  },
  {
   "cell_type": "markdown",
   "metadata": {},
   "source": [
    "# Build Machine Learning models & Visualization 3"
   ]
  },
  {
   "cell_type": "markdown",
   "metadata": {},
   "source": [
    "## 1. Ridge Regression"
   ]
  },
  {
   "cell_type": "code",
   "execution_count": 22,
   "metadata": {},
   "outputs": [
    {
     "data": {
      "image/png": "[encoded data removed]",
      "text/plain": [
       "<Figure size 1008x504 with 1 Axes>"
      ]
     },
     "metadata": {},
     "output_type": "display_data"
    }
   ],
   "source": [
    "# Choose ridge regression since it doesn't penalize all the feature’s estimate arbitrarily. And it can \n",
    "# avoid overfitting problem when the features are highly correlated with each other\n",
    "\n",
    "RidgeScore = []\n",
    "for i in range(40, 82, 2):\n",
    "    RidgeModel = Ridge(alpha = i/10)\n",
    "    perform_score = cross_val_score(RidgeModel, train_input_val, trainData_points, cv=10, scoring=\"neg_mean_squared_error\")\n",
    "    RidgeScore.append(np.sqrt(np.abs(perform_score)))\n",
    "\n",
    "# Plot the scores (RMSE as metric) for different hyperparameters in parallel boxplot\n",
    "Ridge_perform_score = pd.DataFrame()\n",
    "for score, alpha in zip(RidgeScore, range(40, 82, 2)):\n",
    "    Ridge_perform_score[\"alpha = %.2f\" % (alpha / 10)]=score\n",
    "fig = Ridge_perform_score.boxplot(figsize = (14, 7), rot = 90)\n",
    "fig.set_ylabel(\"RMSE value\")\n",
    "fig.set_title(\"Ridge Regression: RMSE value vs Alpha\")\n",
    "plt.show()"
   ]
  },
  {
   "cell_type": "markdown",
   "metadata": {},
   "source": [
    "## 2. Lasso Regression"
   ]
  },
  {
   "cell_type": "code",
   "execution_count": 23,
   "metadata": {},
   "outputs": [
    {
     "data": {
      "image/png": "[encoded data removed]",
      "text/plain": [
       "<Figure size 1008x504 with 1 Axes>"
      ]
     },
     "metadata": {},
     "output_type": "display_data"
    }
   ],
   "source": [
    "# Choose lasso regression since it can provide a very good prediction accuracy. Shrinking and removing the\n",
    "# coefficients can reduce variance without a substantial increase of the bias. And it also can \n",
    "# increase the model interpretability by eliminating irrelevant variables that are not associated with \n",
    "# the response variable, so that to avoid overfitting problem\n",
    "# Source: https://beta.vu.nl/nl/Images/werkstuk-fonti_tcm235-836234.pdf\n",
    "\n",
    "LassoScore = []\n",
    "for j in range(1,22):\n",
    "    LassoModel = Lasso(alpha = j/10)\n",
    "    perform_score = cross_val_score(LassoModel, train_input_val, trainData_points, cv=10, scoring=\"neg_mean_squared_error\")\n",
    "    LassoScore.append(np.sqrt(np.abs(perform_score)))\n",
    "    \n",
    "# Plot the scores (RMSE as metric) for different hyperparameters in parallel boxplot    \n",
    "Lasso_perform_score = pd.DataFrame()\n",
    "for score, alpha in zip(LassoScore, range(1, 22)):\n",
    "    Lasso_perform_score[\"alpha = %.2f\" % (alpha / 10)] = score\n",
    "fig = Lasso_perform_score.boxplot(figsize = (14, 7), rot = 90)\n",
    "fig.set_ylabel(\"RMSE value\")\n",
    "fig.set_title(\"Lasso Regression: RMSE value vs Alpha\")\n",
    "plt.show()"
   ]
  },
  {
   "cell_type": "markdown",
   "metadata": {},
   "source": [
    "## 3. Random Forest"
   ]
  },
  {
   "cell_type": "code",
   "execution_count": 24,
   "metadata": {},
   "outputs": [],
   "source": [
    "# Choose Random Forest since it is one of the most accurate learning algorithms available, \n",
    "# and runs efficiently on large dataset. It also can handle lots of input variables without variable deletion\n",
    "# Source: http://amateurdatascientist.blogspot.com/2012/01/random-forest-algorithm.html\n",
    "\n",
    "RFScore = []\n",
    "for k in range(10, 100, 10):\n",
    "    RFModel = RandomForestRegressor(n_estimators = k)\n",
    "    perform_score = cross_val_score(RFModel, train_input_val, trainData_points, cv=10, scoring=\"neg_mean_squared_error\")\n",
    "    RFScore.append(np.sqrt(np.abs(perform_score)))\n",
    "    "
   ]
  },
  {
   "cell_type": "code",
   "execution_count": 25,
   "metadata": {},
   "outputs": [
    {
     "data": {
      "image/png": "[encoded data removed]",
      "text/plain": [
       "<Figure size 1008x504 with 1 Axes>"
      ]
     },
     "metadata": {},
     "output_type": "display_data"
    }
   ],
   "source": [
    "# Plot the scores (RMSE as metric) for different hyperparameters in parallel boxplot \n",
    "RF_perform_score = pd.DataFrame()\n",
    "for score, treenum in zip(RFScore, range(10, 100, 10)):\n",
    "    RF_perform_score[\"tree_num = %d\" % treenum] = score\n",
    "fig = RF_perform_score.boxplot(figsize = (14, 7), rot = 90)\n",
    "fig.set_ylabel(\"RMSE value\")\n",
    "fig.set_title(\"Random Forest: RMSE value vs Tree number\")\n",
    "plt.show()"
   ]
  },
  {
   "cell_type": "markdown",
   "metadata": {},
   "source": [
    "In the above part, I create three parallel boxplots to find the optimal hyperparameters for each of my 3 chosen models using 10-fold cross-validation on the train set (same folds for each of the 3 models). I set the Root Mean Square Error (RMSE) as evaluation metric since it is appropriate and widely used for regression task. And I found the optimal hyperparameters by looking the three boxplots then picking each hyperparameter with the lowest RMSE value. So for Ridge Regression, the optimal hyperparameter is alpha = 4.00; for Lasso Regression, the optimal hyperparameter is alpha = 0.10; for Random Forest, the optimal hyperparameter is n_estimators = 90.\n",
    "\n",
    "And my Visualization 3 is made by the above three parallel boxplots, generated through the default \"boxplot\" command in Pandas library. I choose parallel boxplot since it can show not only general performance for each hyperparameter value, but also specific distribution of performance scores with respect to each hyperparameter value. And the parallel boxplot contributes to high-level task (Consume->Discover, slide \"tasks\" pg.21) as well. For example, we can easily discover that there is a general increase trend for RMSE value as alpha value becomes larger in Lasso Regression.\n",
    "\n",
    "For the color choice, I only use the default color (blue) to draw the boxes, which can make \"pop-out\" effect (slide \"perception\" pg.92) and immediately capture viewers' attention. The background is colored in white and axes are colored in black to avoid causing visual clutter or distracting viewers (slide \"color\" pg.53)."
   ]
  },
  {
   "cell_type": "markdown",
   "metadata": {},
   "source": [
    "# Run on test set & Visualization 4"
   ]
  },
  {
   "cell_type": "code",
   "execution_count": 26,
   "metadata": {},
   "outputs": [
    {
     "name": "stdout",
     "output_type": "stream",
     "text": [
      "The RMSE for optimal Ridge Regression model is 0.7363206170580119\n",
      "The RMSE for optimal Lasso Regression model is 0.7960898460811594\n",
      "The RMSE for optimal Random Forest model is 0.6796090307338998\n"
     ]
    }
   ],
   "source": [
    "# Using the optimal hyperparameters from the previous part to build the 3 optimal models, \n",
    "# then predict the corresponding points for test set and report performance\n",
    "\n",
    "Ridge_opt = Ridge(alpha = 4)\n",
    "Lasso_opt = Lasso(alpha = 0.1)\n",
    "RF_opt = RandomForestRegressor(n_estimators = 90)\n",
    "\n",
    "# Run on test set\n",
    "Ridge_opt.fit(train_input_val, trainData_points)\n",
    "Ridge_opt_points = Ridge_opt.predict(test_input_val)\n",
    "\n",
    "Lasso_opt.fit(train_input_val, trainData_points)\n",
    "Lasso_opt_points = Lasso_opt.predict(test_input_val)\n",
    "\n",
    "RF_opt.fit(train_input_val, trainData_points)\n",
    "RF_opt_points = RF_opt.predict(test_input_val)\n",
    "\n",
    "# Report performance\n",
    "# Here I still RMSE as evaluation metric for this task\n",
    "Ridge_opt_rmse = np.sqrt(mean_squared_error(Ridge_opt_points, testData_points))\n",
    "Lasso_opt_rmse = np.sqrt(mean_squared_error(Lasso_opt_points, testData_points))\n",
    "RF_opt_rmse = np.sqrt(mean_squared_error(RF_opt_points, testData_points))\n",
    "print(\"The RMSE for optimal Ridge Regression model is\", Ridge_opt_rmse)\n",
    "print(\"The RMSE for optimal Lasso Regression model is\", Lasso_opt_rmse)\n",
    "print(\"The RMSE for optimal Random Forest model is\", RF_opt_rmse)"
   ]
  },
  {
   "cell_type": "code",
   "execution_count": 31,
   "metadata": {},
   "outputs": [
    {
     "data": {
      "image/png": "[encoded data removed]",
      "text/plain": [
       "<Figure size 1008x504 with 1 Axes>"
      ]
     },
     "metadata": {},
     "output_type": "display_data"
    }
   ],
   "source": [
    "# Create a visualization showing the top features learned by the best performing model\n",
    "# Based on above part, we know that the Random Forest has the lowest RMSE value, which is the best performing model\n",
    "\n",
    "# Apply the default \"feature_importances_\" method in RF model to select the top features\n",
    "feat_importance = RF_opt.feature_importances_\n",
    "feat_importance = 100 * (feat_importance / feat_importance.max()) # Re-define the feature importance like percentage form\n",
    "featSort = np.flip(np.argsort(feat_importance)[-10:], axis = 0) # Select top 10 features\n",
    "barPos = np.arange(10)\n",
    "feat_selected = np.array(testData_input.drop(\"description\", axis = 1).columns)[featSort]\n",
    "\n",
    "plt.figure(figsize=(14,7))\n",
    "plt.bar(barPos, feat_importance[featSort])\n",
    "plt.xticks(barPos, feat_selected)\n",
    "plt.xlabel(\"Feature names\")\n",
    "plt.ylabel(\"Feature importance\")\n",
    "plt.title(\"Top 10 features learned by best performing model (Random Forest)\")\n",
    "plt.show()"
   ]
  },
  {
   "cell_type": "markdown",
   "metadata": {},
   "source": [
    "The Visualization 4 shows the top 10 features learned by best performing model (Random Forest). The numbers on the x-axis are actually feature names derived from tf-idf output. I choose bar chart since it can show clear comparison for importance value among these features. And I present the feature importance in descending order, which is convenient for viewers to examine. \n",
    "\n",
    "For color choice, I still use the default color (blue) to fill the bars, which can make \"pop-out\" effect (slide \"perception\" pg.92) and immediately capture viewers' attention. The background is colored in white and all other parts are colored in black to avoid causing visual clutter or distracting viewers (slide \"color\" pg.53)."
   ]
  },
  {
   "cell_type": "code",
   "execution_count": null,
   "metadata": {},
   "outputs": [],
   "source": []
  }
 ],
 "metadata": {
  "kernelspec": {
   "display_name": "Python 3",
   "language": "python",
   "name": "python3"
  },
  "language_info": {
   "codemirror_mode": {
    "name": "ipython",
    "version": 3
   },
   "file_extension": ".py",
   "mimetype": "text/x-python",
   "name": "python",
   "nbconvert_exporter": "python",
   "pygments_lexer": "ipython3",
   "version": "3.6.5"
  }
 },
 "nbformat": 4,
 "nbformat_minor": 2
}
